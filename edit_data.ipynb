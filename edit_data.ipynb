{
 "cells": [
  {
   "cell_type": "code",
   "execution_count": 2,
   "metadata": {},
   "outputs": [
    {
     "data": {
      "text/html": [
       "<div>\n",
       "<style scoped>\n",
       "    .dataframe tbody tr th:only-of-type {\n",
       "        vertical-align: middle;\n",
       "    }\n",
       "\n",
       "    .dataframe tbody tr th {\n",
       "        vertical-align: top;\n",
       "    }\n",
       "\n",
       "    .dataframe thead th {\n",
       "        text-align: right;\n",
       "    }\n",
       "</style>\n",
       "<table border=\"1\" class=\"dataframe\">\n",
       "  <thead>\n",
       "    <tr style=\"text-align: right;\">\n",
       "      <th></th>\n",
       "      <th>ranking</th>\n",
       "      <th>title</th>\n",
       "      <th>location</th>\n",
       "      <th>number students</th>\n",
       "      <th>students staff ratio</th>\n",
       "      <th>perc intl students</th>\n",
       "      <th>gender ratio</th>\n",
       "    </tr>\n",
       "  </thead>\n",
       "  <tbody>\n",
       "    <tr>\n",
       "      <th>0</th>\n",
       "      <td>1</td>\n",
       "      <td>University of Oxford</td>\n",
       "      <td>United Kingdom</td>\n",
       "      <td>20774</td>\n",
       "      <td>11.1</td>\n",
       "      <td>41%</td>\n",
       "      <td>46 : 54</td>\n",
       "    </tr>\n",
       "    <tr>\n",
       "      <th>1</th>\n",
       "      <td>2</td>\n",
       "      <td>Stanford University</td>\n",
       "      <td>United States</td>\n",
       "      <td>16223</td>\n",
       "      <td>7.4</td>\n",
       "      <td>23%</td>\n",
       "      <td>44 : 56</td>\n",
       "    </tr>\n",
       "    <tr>\n",
       "      <th>2</th>\n",
       "      <td>3</td>\n",
       "      <td>Harvard University</td>\n",
       "      <td>United States</td>\n",
       "      <td>21261</td>\n",
       "      <td>9.3</td>\n",
       "      <td>25%</td>\n",
       "      <td>49 : 51</td>\n",
       "    </tr>\n",
       "    <tr>\n",
       "      <th>3</th>\n",
       "      <td>4</td>\n",
       "      <td>California Institute of Technology</td>\n",
       "      <td>United States</td>\n",
       "      <td>2238</td>\n",
       "      <td>6.3</td>\n",
       "      <td>33%</td>\n",
       "      <td>36 : 64</td>\n",
       "    </tr>\n",
       "    <tr>\n",
       "      <th>4</th>\n",
       "      <td>5</td>\n",
       "      <td>Massachusetts Institute of Technology</td>\n",
       "      <td>United States</td>\n",
       "      <td>11276</td>\n",
       "      <td>8.4</td>\n",
       "      <td>34%</td>\n",
       "      <td>39 : 61</td>\n",
       "    </tr>\n",
       "  </tbody>\n",
       "</table>\n",
       "</div>"
      ],
      "text/plain": [
       "   ranking                                  title        location  \\\n",
       "0        1                   University of Oxford  United Kingdom   \n",
       "1        2                    Stanford University   United States   \n",
       "2        3                     Harvard University   United States   \n",
       "3        4     California Institute of Technology   United States   \n",
       "4        5  Massachusetts Institute of Technology   United States   \n",
       "\n",
       "   number students  students staff ratio perc intl students gender ratio  \n",
       "0            20774                  11.1                41%      46 : 54  \n",
       "1            16223                   7.4                23%      44 : 56  \n",
       "2            21261                   9.3                25%      49 : 51  \n",
       "3             2238                   6.3                33%      36 : 64  \n",
       "4            11276                   8.4                34%      39 : 61  "
      ]
     },
     "execution_count": 2,
     "metadata": {},
     "output_type": "execute_result"
    }
   ],
   "source": [
    "# convert number students from str to int, remove comma\n",
    "# this is done in google colab and this is for reference only\n",
    "import pandas as pd\n",
    "url = \"https://raw.githubusercontent.com/cchwee/viz_worlduniranking/main/universities_ranking.csv?token=AUY7IVYFPQLY5BDRAS34AWDBM7ASY\"\n",
    "df1 = pd.read_csv(url)\n",
    "df1['number students'] = pd.to_numeric(df1['number students'].replace(\",\", \"\", regex=True))\n",
    "df1.head()"
   ]
  },
  {
   "cell_type": "code",
   "execution_count": null,
   "metadata": {},
   "outputs": [],
   "source": [
    "# export the file to csv\n",
    "from google.colab import files\n",
    "df1.to_csv('edited_uni_data.csv')\n",
    "files.download('edited_uni_data.csv')"
   ]
  }
 ],
 "metadata": {
  "interpreter": {
   "hash": "d063b60717332e91197e2eb55aef2cd19d45489547141a5917fea6daf31c4133"
  },
  "kernelspec": {
   "display_name": "Python 3.8.10 64-bit (windows store)",
   "name": "python3"
  },
  "language_info": {
   "codemirror_mode": {
    "name": "ipython",
    "version": 3
   },
   "file_extension": ".py",
   "mimetype": "text/x-python",
   "name": "python",
   "nbconvert_exporter": "python",
   "pygments_lexer": "ipython3",
   "version": "3.8.10"
  },
  "orig_nbformat": 4
 },
 "nbformat": 4,
 "nbformat_minor": 2
}
